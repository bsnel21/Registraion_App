{
 "cells": [
  {
   "cell_type": "markdown",
   "metadata": {},
   "source": [
    "# Login / Registration Page Connected to PostgreSQL Database"
   ]
  },
  {
   "cell_type": "code",
   "execution_count": 1,
   "metadata": {},
   "outputs": [
    {
     "name": "stderr",
     "output_type": "stream",
     "text": [
      "/Users/bsnelson/anaconda3/lib/python3.6/site-packages/psycopg2/__init__.py:144: UserWarning: The psycopg2 wheel package will be renamed from release 2.8; in order to keep installing from binary please use \"pip install psycopg2-binary\" instead. For details see: <http://initd.org/psycopg/docs/install.html#binary-install-from-pypi>.\n",
      "  \"\"\")\n"
     ]
    }
   ],
   "source": [
    "from tkinter import *\n",
    "import os\n",
    "import psycopg2\n",
    "from passlib.hash import sha256_crypt\n",
    "import datetime\n",
    "import time"
   ]
  },
  {
   "cell_type": "code",
   "execution_count": 2,
   "metadata": {},
   "outputs": [],
   "source": [
    "def delete3():\n",
    "    screen3.destroy()\n",
    "def delete4():\n",
    "    screen4.destroy()\n",
    "def delete5():\n",
    "    screen5.destroy()"
   ]
  },
  {
   "cell_type": "code",
   "execution_count": 3,
   "metadata": {},
   "outputs": [],
   "source": [
    "def login_success():\n",
    "    global screen3\n",
    "    screen3 = Toplevel(screen)\n",
    "    screen3.title(\"Success\")\n",
    "    screen3.geometry(\"150x100\")\n",
    "    Label(screen3, text = \"Login Success\").pack()\n",
    "    Button(screen3, text = \"OK\", command = delete3).pack()"
   ]
  },
  {
   "cell_type": "code",
   "execution_count": 4,
   "metadata": {},
   "outputs": [],
   "source": [
    "def password_not_recognised():\n",
    "    global screen4\n",
    "    screen4 = Toplevel(screen)\n",
    "    screen4.title(\"Error\")\n",
    "    screen4.geometry(\"150x100\")\n",
    "    Label(screen4, text = \"Incorrect Password\").pack()\n",
    "    Button(screen4, text = \"OK\", command = delete4).pack()"
   ]
  },
  {
   "cell_type": "code",
   "execution_count": 5,
   "metadata": {},
   "outputs": [],
   "source": [
    "def email_not_found():\n",
    "    global screen5\n",
    "    screen5 = Toplevel(screen)\n",
    "    screen5.title(\"Error\")\n",
    "    screen5.geometry(\"150x100\")\n",
    "    Label(screen5, text = \"Incorrect Email\").pack()\n",
    "    Button(screen5, text = \"OK\", command = delete5).pack()"
   ]
  },
  {
   "cell_type": "code",
   "execution_count": 6,
   "metadata": {},
   "outputs": [],
   "source": [
    "def login_verify():\n",
    "    username1 = username_verify.get()\n",
    "    password1 = password_verify.get()\n",
    "    \n",
    "    username_entry1.delete(0, END)\n",
    "    password_entry1.delete(0, END)\n",
    "    \n",
    "    list_of_files = os.listdir()\n",
    "    if username1 in list_of_files:\n",
    "        file1 = open(username1, \"r\")\n",
    "        verify = file1.read().splitlines()\n",
    "        if password1 in verify:\n",
    "            login_success()\n",
    "        else:\n",
    "            password_not_recognised()\n",
    "    else: \n",
    "        user_not_found()\n",
    "    \n",
    "    "
   ]
  },
  {
   "cell_type": "code",
   "execution_count": 7,
   "metadata": {},
   "outputs": [],
   "source": [
    "def login():\n",
    "    global screen2\n",
    "    screen2 = Toplevel(screen)\n",
    "    screen2.title(\"Login\")\n",
    "    screen2.geometry(\"300x250\")\n",
    "    Label(screen2, text = \"Please enter Login details below\").pack()\n",
    "    Label(screen2, text = \"\").pack()\n",
    "    \n",
    "    global email_verify\n",
    "    global password_verify\n",
    "    \n",
    "    email_verify = StringVar()\n",
    "    password_verify = StringVar()\n",
    "    \n",
    "    global email_entry1\n",
    "    global password_entry1 \n",
    "    \n",
    "    Label(screen2, text=\"Email * \").pack()\n",
    "    email_entry1 = Entry(screen2, textvariable = email_verify)\n",
    "    email_entry1.pack()\n",
    "    Label(screen2, text=\"\").pack()\n",
    "    Label(screen2, text=\"Password * \").pack()\n",
    "    password_entry1 = Entry(screen2, textvariable = password_verify)\n",
    "    password_entry1.pack()\n",
    "    Label(screen2, text=\"\").pack()\n",
    "    Button(screen2, text = \"Login\", width = 10, height = 1, command = login_verify).pack()\n",
    "    "
   ]
  },
  {
   "cell_type": "code",
   "execution_count": 8,
   "metadata": {},
   "outputs": [],
   "source": [
    "def register_user():\n",
    "    email_info = email.get()\n",
    "    password_info = password.get()\n",
    "    first_name_info = first_name.get()\n",
    "    last_name_info = last_name.get()\n",
    "    \n",
    "    \n",
    "    hash_pas = sha256_crypt.encrypt(password_info)\n",
    "    \n",
    "    ts = time.time()\n",
    "    current_time = datetime.datetime.fromtimestamp(ts).strftime('%Y-%m-%d %H:%M:%S')\n",
    "    \n",
    "    #file = open(email_info, \"w\")\n",
    "    #file.write(email_info+\"\\n\")\n",
    "    #file.write(password_info+\"\\n\")\n",
    "    #file.write(first_name_info+\"\\n\")\n",
    "    #file.write(last_name_info)\n",
    "    #file.close()\n",
    "    \n",
    "    con = psycopg2.connect(database=\"Login\",\n",
    "                      user = \"postgres\",\n",
    "                      password = \"*****\")\n",
    "\n",
    "    cur = con.cursor()\n",
    "\n",
    "    cur.execute(\"insert into users (first_name, last_name, email, password, activation_date) values (%s, %s, %s, %s, %s)\", (first_name_info, last_name_info, email_info, hash_pas, current_time))\n",
    "\n",
    "    con.commit()\n",
    "\n",
    "    cur.close()\n",
    "    con.close()\n",
    "    \n",
    "    email_entry.delete(0, END)\n",
    "    password_entry.delete(0, END)\n",
    "    first_name_entry.delete(0,END)\n",
    "    last_name_entry.delete(0, END)\n",
    "    \n",
    "    Label(screen1, text = \"Registration Success\", fg = \"green\", font = (\"calibri\", 11)).pack()\n",
    "    "
   ]
  },
  {
   "cell_type": "code",
   "execution_count": 9,
   "metadata": {},
   "outputs": [],
   "source": [
    "def register():\n",
    "    global screen1\n",
    "    screen1 = Toplevel(screen)\n",
    "    screen1.title(\"Register\")\n",
    "    screen1.geometry(\"450x400\")\n",
    "    \n",
    "    global email\n",
    "    global password\n",
    "    global first_name\n",
    "    global last_name\n",
    "    \n",
    "    global email_entry\n",
    "    global password_entry\n",
    "    global first_name_entry\n",
    "    global last_name_entry\n",
    "    \n",
    "    \n",
    "    email = StringVar()\n",
    "    password = StringVar()\n",
    "    first_name = StringVar()\n",
    "    last_name = StringVar()\n",
    "    \n",
    "    Label(screen1, text = \"Please enter details below\").pack()\n",
    "    Label(screen1, text = \"\").pack()\n",
    "    \n",
    "    Label(screen1, text = \"Email * \").pack()\n",
    "    email_entry = Entry(screen1, textvariable = email)\n",
    "    email_entry.pack()\n",
    "    \n",
    "    Label(screen1, text = \"Password * \").pack()\n",
    "    password_entry = Entry(screen1, textvariable = password)\n",
    "    password_entry.pack()\n",
    "    \n",
    "    Label(screen1, text = \"First Name * \").pack()\n",
    "    first_name_entry = Entry(screen1, textvariable = first_name)\n",
    "    first_name_entry.pack()\n",
    "    \n",
    "    Label(screen1, text = \"Last Name * \").pack()\n",
    "    last_name_entry = Entry(screen1, textvariable = last_name)\n",
    "    last_name_entry.pack()\n",
    "    Label(screen1, text = \"\").pack()\n",
    "    \n",
    "    \n",
    "    Button(screen1, text = \"Register\", width = 10, height = 1, command = register_user).pack()\n",
    "    "
   ]
  },
  {
   "cell_type": "code",
   "execution_count": 10,
   "metadata": {},
   "outputs": [
    {
     "name": "stderr",
     "output_type": "stream",
     "text": [
      "/Users/bsnelson/anaconda3/lib/python3.6/site-packages/ipykernel_launcher.py:8: DeprecationWarning: the method passlib.handlers.sha2_crypt.sha256_crypt.encrypt() is deprecated as of Passlib 1.7, and will be removed in Passlib 2.0, use .hash() instead.\n",
      "  \n"
     ]
    },
    {
     "ename": "KeyboardInterrupt",
     "evalue": "",
     "output_type": "error",
     "traceback": [
      "\u001b[0;31m---------------------------------------------------------------------------\u001b[0m",
      "\u001b[0;31mKeyboardInterrupt\u001b[0m                         Traceback (most recent call last)",
      "\u001b[0;32m<ipython-input-10-034df36f0476>\u001b[0m in \u001b[0;36m<module>\u001b[0;34m\u001b[0m\n\u001b[1;32m     11\u001b[0m \u001b[0;34m\u001b[0m\u001b[0m\n\u001b[1;32m     12\u001b[0m     \u001b[0mscreen\u001b[0m\u001b[0;34m.\u001b[0m\u001b[0mmainloop\u001b[0m\u001b[0;34m(\u001b[0m\u001b[0;34m)\u001b[0m\u001b[0;34m\u001b[0m\u001b[0;34m\u001b[0m\u001b[0m\n\u001b[0;32m---> 13\u001b[0;31m \u001b[0mmain_screen\u001b[0m\u001b[0;34m(\u001b[0m\u001b[0;34m)\u001b[0m\u001b[0;34m\u001b[0m\u001b[0;34m\u001b[0m\u001b[0m\n\u001b[0m",
      "\u001b[0;32m<ipython-input-10-034df36f0476>\u001b[0m in \u001b[0;36mmain_screen\u001b[0;34m()\u001b[0m\n\u001b[1;32m     10\u001b[0m     \u001b[0mButton\u001b[0m\u001b[0;34m(\u001b[0m\u001b[0mtext\u001b[0m\u001b[0;34m=\u001b[0m\u001b[0;34m\"Register\"\u001b[0m\u001b[0;34m,\u001b[0m \u001b[0mwidth\u001b[0m\u001b[0;34m=\u001b[0m\u001b[0;34m\"30\"\u001b[0m\u001b[0;34m,\u001b[0m \u001b[0mheight\u001b[0m \u001b[0;34m=\u001b[0m \u001b[0;34m\"2\"\u001b[0m\u001b[0;34m,\u001b[0m \u001b[0mcommand\u001b[0m \u001b[0;34m=\u001b[0m \u001b[0mregister\u001b[0m\u001b[0;34m)\u001b[0m\u001b[0;34m.\u001b[0m\u001b[0mpack\u001b[0m\u001b[0;34m(\u001b[0m\u001b[0;34m)\u001b[0m\u001b[0;34m\u001b[0m\u001b[0;34m\u001b[0m\u001b[0m\n\u001b[1;32m     11\u001b[0m \u001b[0;34m\u001b[0m\u001b[0m\n\u001b[0;32m---> 12\u001b[0;31m     \u001b[0mscreen\u001b[0m\u001b[0;34m.\u001b[0m\u001b[0mmainloop\u001b[0m\u001b[0;34m(\u001b[0m\u001b[0;34m)\u001b[0m\u001b[0;34m\u001b[0m\u001b[0;34m\u001b[0m\u001b[0m\n\u001b[0m\u001b[1;32m     13\u001b[0m \u001b[0mmain_screen\u001b[0m\u001b[0;34m(\u001b[0m\u001b[0;34m)\u001b[0m\u001b[0;34m\u001b[0m\u001b[0;34m\u001b[0m\u001b[0m\n",
      "\u001b[0;32m~/anaconda3/lib/python3.6/tkinter/__init__.py\u001b[0m in \u001b[0;36mmainloop\u001b[0;34m(self, n)\u001b[0m\n\u001b[1;32m   1281\u001b[0m     \u001b[0;32mdef\u001b[0m \u001b[0mmainloop\u001b[0m\u001b[0;34m(\u001b[0m\u001b[0mself\u001b[0m\u001b[0;34m,\u001b[0m \u001b[0mn\u001b[0m\u001b[0;34m=\u001b[0m\u001b[0;36m0\u001b[0m\u001b[0;34m)\u001b[0m\u001b[0;34m:\u001b[0m\u001b[0;34m\u001b[0m\u001b[0;34m\u001b[0m\u001b[0m\n\u001b[1;32m   1282\u001b[0m         \u001b[0;34m\"\"\"Call the mainloop of Tk.\"\"\"\u001b[0m\u001b[0;34m\u001b[0m\u001b[0;34m\u001b[0m\u001b[0m\n\u001b[0;32m-> 1283\u001b[0;31m         \u001b[0mself\u001b[0m\u001b[0;34m.\u001b[0m\u001b[0mtk\u001b[0m\u001b[0;34m.\u001b[0m\u001b[0mmainloop\u001b[0m\u001b[0;34m(\u001b[0m\u001b[0mn\u001b[0m\u001b[0;34m)\u001b[0m\u001b[0;34m\u001b[0m\u001b[0;34m\u001b[0m\u001b[0m\n\u001b[0m\u001b[1;32m   1284\u001b[0m     \u001b[0;32mdef\u001b[0m \u001b[0mquit\u001b[0m\u001b[0;34m(\u001b[0m\u001b[0mself\u001b[0m\u001b[0;34m)\u001b[0m\u001b[0;34m:\u001b[0m\u001b[0;34m\u001b[0m\u001b[0;34m\u001b[0m\u001b[0m\n\u001b[1;32m   1285\u001b[0m         \u001b[0;34m\"\"\"Quit the Tcl interpreter. All widgets will be destroyed.\"\"\"\u001b[0m\u001b[0;34m\u001b[0m\u001b[0;34m\u001b[0m\u001b[0m\n",
      "\u001b[0;31mKeyboardInterrupt\u001b[0m: "
     ]
    }
   ],
   "source": [
    "def main_screen():\n",
    "    global screen\n",
    "    screen = Tk()\n",
    "    screen.geometry(\"320x250\")\n",
    "    screen.title(\"Main\")\n",
    "    Label(text=\"Welcome!\", bg=\"grey\",width=\"300\", height = \"2\", font=(\"Calibri\",13)).pack()\n",
    "    Label(text=\"\").pack()\n",
    "    Button(text=\"Login\", width=\"30\", height = \"2\", command = login).pack()\n",
    "    Label(text=\"\").pack()\n",
    "    Button(text=\"Register\", width=\"30\", height = \"2\", command = register).pack()\n",
    "    \n",
    "    screen.mainloop()\n",
    "main_screen()"
   ]
  },
  {
   "cell_type": "code",
   "execution_count": null,
   "metadata": {},
   "outputs": [],
   "source": []
  }
 ],
 "metadata": {
  "kernelspec": {
   "display_name": "Python 3",
   "language": "python",
   "name": "python3"
  },
  "language_info": {
   "codemirror_mode": {
    "name": "ipython",
    "version": 3
   },
   "file_extension": ".py",
   "mimetype": "text/x-python",
   "name": "python",
   "nbconvert_exporter": "python",
   "pygments_lexer": "ipython3",
   "version": "3.6.7"
  }
 },
 "nbformat": 4,
 "nbformat_minor": 2
}
